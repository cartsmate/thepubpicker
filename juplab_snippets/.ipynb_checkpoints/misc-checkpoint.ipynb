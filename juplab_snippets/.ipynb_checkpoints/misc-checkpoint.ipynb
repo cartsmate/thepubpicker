{
 "cells": [
  {
   "cell_type": "code",
   "execution_count": null,
   "id": "4b827ff5-0cab-49c3-a2b2-77309fbf39bc",
   "metadata": {},
   "outputs": [],
   "source": [
    "# DATATIME and TIME LIBRARIES\n",
    "import datetime\n",
    "import time\n",
    "\n",
    "t1 = datetime.datetime.now()\n",
    "t1_day = t1.weekday()\n",
    "\n",
    "time.sleep(2.5)\n",
    "\n",
    "t2 = datetime.datetime.now()\n",
    "t2_day = t2.weekday()\n",
    "\n",
    "_1_day = datetime.timedelta(days=1)\n",
    "t3 = datetime.datetime.now() - t1\n",
    "if ((t2 - t1) > datetime.timedelta(days=1) or t1.weekday() != t2.weekday()):\n",
    "    print(\"next day\")\n",
    "else:\n",
    "    print(\"same day\")\n",
    "\n",
    "\n",
    "# print('Timestamp: {:%Y-%m-%d %H:%M:%S}'.format(datetime.datetime.now()))\n",
    "# print('Timestamp: {:%Y-%b-%d %H:%M:%S}'.format(datetime.datetime.now()))\n",
    "# print('Date now: %s' % datetime.datetime.now())\n",
    "# print('Date today: %s' % datetime.date.today())\n",
    "\n",
    "# today = datetime.date.today()\n",
    "# print(\"Today's date is {:%b, %d %Y}\".format(today))\n"
   ]
  },
  {
   "cell_type": "code",
   "execution_count": null,
   "id": "363f7d97-a036-450e-b4ad-09a9ac046a61",
   "metadata": {},
   "outputs": [],
   "source": [
    "# CREATE AND SPLIT LISTS\n",
    "test_str = 'pub_identity,detail_name,address,category,detail_latitude,detail_longitude,extra,place,ranking,website,url,color,scenic,sport,garden,music,\\\n",
    "roast,brunch,late,quiz,pool,dart,entertain,history,favourite,cocktail,beer,wine,outdoor,restaurant,nofeature,private,dj,comedy,karaoke,timeout,\\\n",
    "hours,monday,tuesday,wednesday,thursday,friday,saturday,sunday,station_name,direction_name,station_identity,direction_identity'\n",
    "test_list = test_str.split(',')\n",
    "# test_str.count(',')\n",
    "test_list.sort()\n",
    "print(test_list)\n",
    "s = \"','\".join(test_list)\n",
    "s2 = \",\".join(test_list)\n",
    "print(f\"'{s}'\")\n",
    "print(f\"{s2}\")\n"
   ]
  },
  {
   "cell_type": "code",
   "execution_count": null,
   "id": "10c8800c-b9b0-4787-8295-1b641b231796",
   "metadata": {},
   "outputs": [],
   "source": [
    "# FIND TEXT IN STRING\n",
    "s = soup.find('title')\n",
    "print(s.text)\n",
    "# print(soup.title.name)\n"
   ]
  }
 ],
 "metadata": {
  "kernelspec": {
   "display_name": "Python 3 (ipykernel)",
   "language": "python",
   "name": "python3"
  },
  "language_info": {
   "codemirror_mode": {
    "name": "ipython",
    "version": 3
   },
   "file_extension": ".py",
   "mimetype": "text/x-python",
   "name": "python",
   "nbconvert_exporter": "python",
   "pygments_lexer": "ipython3",
   "version": "3.12.2"
  }
 },
 "nbformat": 4,
 "nbformat_minor": 5
}
