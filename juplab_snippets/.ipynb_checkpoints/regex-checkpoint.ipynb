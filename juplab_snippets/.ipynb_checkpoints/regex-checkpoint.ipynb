{
 "cells": [
  {
   "cell_type": "code",
   "execution_count": 2,
   "id": "e8e26f93",
   "metadata": {},
   "outputs": [],
   "source": [
    "import re\n",
    "import requests \n",
    "import pandas as pd\n",
    "# from urllib.request import urlopen\n",
    "# from bs4 import BeautifulSoup\n",
    "\n",
    "quote_page = \"https://www.ucl.ac.uk/~ccaajpa/pubs-listed.html\" \n",
    "response = requests.get(quote_page)\n",
    "html_page = response.text\n",
    "\n",
    "pub = []\n",
    "pattern = re.compile(r\"<U>([0-9a-zA-Z &,]+)</U></B>\\,?\\s?([0-9a-zA-Z -]+)\\,?\\s?([a-zA-Z ]+)\")\n",
    "for match in pattern.finditer(html_page):\n",
    "    pub.append({'name': match.group(1), 'address': match.group(2), 'area': match.group(3)})\n",
    "\n",
    "dfItem = pd.DataFrame.from_records(pub)\n",
    "# dfItem\n"
   ]
  },
  {
   "cell_type": "code",
   "execution_count": 424,
   "id": "9c13e8f1",
   "metadata": {},
   "outputs": [],
   "source": []
  }
 ],
 "metadata": {
  "kernelspec": {
   "display_name": "Python 3 (ipykernel)",
   "language": "python",
   "name": "python3"
  },
  "language_info": {
   "codemirror_mode": {
    "name": "ipython",
    "version": 3
   },
   "file_extension": ".py",
   "mimetype": "text/x-python",
   "name": "python",
   "nbconvert_exporter": "python",
   "pygments_lexer": "ipython3",
   "version": "3.12.2"
  }
 },
 "nbformat": 4,
 "nbformat_minor": 5
}
