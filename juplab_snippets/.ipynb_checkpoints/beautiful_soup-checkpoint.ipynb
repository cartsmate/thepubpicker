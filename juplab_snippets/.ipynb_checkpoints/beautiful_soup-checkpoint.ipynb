{
 "cells": [
  {
   "cell_type": "code",
   "execution_count": 1,
   "id": "4974b832",
   "metadata": {},
   "outputs": [],
   "source": [
    "# REQUESTS and BEAUTIFUL SOUP\n",
    "\n",
    "import requests \n",
    "from bs4 import BeautifulSoup \n",
    "  \n",
    "  \n",
    "# Making a GET request \n",
    "# r = requests.get('https://www.geeksforgeeks.org/python-programming-language/') \n",
    "r = requests.get('http://www.thepubcrawls.co.uk/home/') \n",
    "  \n",
    "# check status code for response received \n",
    "# success code - 200 \n",
    "# print(r) \n",
    "  \n",
    "# Parsing the HTML \n",
    "soup = BeautifulSoup(r.content, 'html.parser')\n",
    "# print(soup)\n",
    "# left_soup = soup.text\n",
    "# print(left_soup)\n",
    "# print(soup.prettify()) \n"
   ]
  },
  {
   "cell_type": "code",
   "execution_count": 21,
   "id": "aeac33b6",
   "metadata": {},
   "outputs": [],
   "source": [
    "# REQUESTS and BEAUTIFUL SOUP\n",
    "\n",
    "import requests \n",
    "from urllib.request import urlopen\n",
    "from bs4 import BeautifulSoup \n",
    "jupyter notebook --NotebookApp.iopub_data_rate_limit=1.0e10\n",
    "quote_page = \"https://www.ucl.ac.uk/~ccaajpa/pubs-listed.html\" \n",
    "# html = urlopen(quote_page).read()\n",
    "response = requests.get(quote_page)\n",
    "html_page = response.text\n",
    "soup = BeautifulSoup(html_page, 'html.parser')\n",
    "# print(soup) \n",
    "\n",
    "# soup = BeautifulSoup(r.content, 'html5lib') # If this line causes an error, run 'pip install html5lib' or install html5lib \n",
    "\n",
    "print(soup.prettify()) \n"
   ]
  },
  {
   "cell_type": "code",
   "execution_count": null,
   "id": "b0080bac-3b6e-450a-a62d-edcd95bc0534",
   "metadata": {},
   "outputs": [],
   "source": [
    "import requests \n",
    "from urllib.request import urlopen\n",
    "from bs4 import BeautifulSoup \n",
    "quote_page = \"https://www.ucl.ac.uk/~ccaajpa/pubs-listed.html\" \n",
    "response = requests.get(quote_page)\n",
    "html_page = response.text\n",
    "\n",
    "# print(html_page)\n",
    "\n",
    "\n",
    "# soup = BeautifulSoup(html_page, 'html.parser')\n",
    "# li = soup.prettify().split('\\n')\n",
    "# for i in range(15):\n",
    "#     print(str(li[i]))"
   ]
  },
  {
   "cell_type": "code",
   "execution_count": 3,
   "id": "4dbadfea-cf08-48f9-ab1b-09ae930543c3",
   "metadata": {},
   "outputs": [],
   "source": [
    "import json\n",
    "import requests \n",
    "import threading\n",
    "from bs4 import BeautifulSoup \n",
    "\n",
    "\n",
    "# def lambda_handler(event, context):\n",
    "def lambda_handler():\n",
    "\n",
    "    # threading.Timer(5.0, lambda_handler).start()\n",
    "    r = requests.get('https://glastonbury.seetickets.com/content/extras')    \n",
    "    soup = BeautifulSoup(r.content, 'html.parser') \n",
    "    sold_out = True\n",
    "    \n",
    "    for content in soup.find_all('p'):\n",
    "        if \"sold out\" in content:\n",
    "            sold_out = False\n",
    "            print('still sold out')\n",
    "            break\n",
    "    \n",
    "    if sold_out == False:\n",
    "        print('QUICK GET ON LINE')\n",
    "    else:\n",
    "        print('stay sad, still sold out')\n"
   ]
  },
  {
   "cell_type": "code",
   "execution_count": 4,
   "id": "1d233540-817f-468e-a2da-1933add75d55",
   "metadata": {},
   "outputs": [
    {
     "name": "stdout",
     "output_type": "stream",
     "text": [
      "stay sad, still sold out\n",
      "stay sad, still sold out\n",
      "stay sad, still sold out\n",
      "stay sad, still sold out\n",
      "stay sad, still sold out\n",
      "stay sad, still sold out\n",
      "stay sad, still sold out\n",
      "stay sad, still sold out\n",
      "stay sad, still sold out\n",
      "stay sad, still sold out\n",
      "stay sad, still sold out\n",
      "stay sad, still sold out\n",
      "stay sad, still sold out\n",
      "stay sad, still sold out\n",
      "stay sad, still sold out\n",
      "stay sad, still sold out\n"
     ]
    }
   ],
   "source": [
    "lambda_handler()\n",
    "\n"
   ]
  },
  {
   "cell_type": "code",
   "execution_count": null,
   "id": "ac608b98-e866-4dff-8832-ba67cf8d60a2",
   "metadata": {},
   "outputs": [],
   "source": [
    "class MyThread(Thread):\n",
    "    def __init__(self, event):\n",
    "        Thread.__init__(self)\n",
    "        self.stopped = event\n",
    "\n",
    "    def run(self):\n",
    "        while not self.stopped.wait(0.5):\n",
    "            print(\"my thread\")\n",
    "            # call a function\n",
    "\n",
    "\n",
    "stopFlag = Event()\n",
    "thread = MyThread(stopFlag)\n",
    "thread.start()\n",
    "# this will stop the timer\n",
    "stopFlag.set()\n"
   ]
  },
  {
   "cell_type": "code",
   "execution_count": 6,
   "id": "3ce67305-9435-4998-9a89-8228839a793e",
   "metadata": {},
   "outputs": [
    {
     "name": "stdout",
     "output_type": "stream",
     "text": [
      "stay sad, still sold out\n",
      "stay sad, still sold out\n",
      "stay sad, still sold out\n",
      "stay sad, still sold out\n",
      "stay sad, still sold out\n",
      "stay sad, still sold out\n",
      "stay sad, still sold out\n",
      "stay sad, still sold out\n",
      "stay sad, still sold out\n",
      "stay sad, still sold out\n",
      "stay sad, still sold out\n",
      "stay sad, still sold out\n",
      "stay sad, still sold out\n",
      "stay sad, still sold out\n",
      "stay sad, still sold out\n",
      "stay sad, still sold out\n",
      "stay sad, still sold out\n",
      "stay sad, still sold out\n",
      "stay sad, still sold out\n",
      "stay sad, still sold out\n",
      "stay sad, still sold out\n",
      "stay sad, still sold out\n",
      "stay sad, still sold out\n",
      "stay sad, still sold out\n",
      "stay sad, still sold out\n",
      "stay sad, still sold out\n",
      "stay sad, still sold out\n"
     ]
    }
   ],
   "source": [
    "threading.Timer(5.0, lambda_handler).cancel()"
   ]
  }
 ],
 "metadata": {
  "kernelspec": {
   "display_name": "Python 3 (ipykernel)",
   "language": "python",
   "name": "python3"
  },
  "language_info": {
   "codemirror_mode": {
    "name": "ipython",
    "version": 3
   },
   "file_extension": ".py",
   "mimetype": "text/x-python",
   "name": "python",
   "nbconvert_exporter": "python",
   "pygments_lexer": "ipython3",
   "version": "3.12.2"
  }
 },
 "nbformat": 4,
 "nbformat_minor": 5
}
