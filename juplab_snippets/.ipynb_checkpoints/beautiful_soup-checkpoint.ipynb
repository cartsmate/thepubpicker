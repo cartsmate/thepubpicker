{
 "cells": [
  {
   "cell_type": "code",
   "execution_count": 1,
   "id": "4974b832",
   "metadata": {},
   "outputs": [],
   "source": [
    "import requests \n",
    "from bs4 import BeautifulSoup \n",
    "  \n",
    "  \n",
    "# Making a GET request \n",
    "# r = requests.get('https://www.geeksforgeeks.org/python-programming-language/') \n",
    "r = requests.get('http://www.thepubcrawls.co.uk/home/') \n",
    "  \n",
    "# check status code for response received \n",
    "# success code - 200 \n",
    "# print(r) \n",
    "  \n",
    "# Parsing the HTML \n",
    "soup = BeautifulSoup(r.content, 'html.parser')\n",
    "# print(soup)\n",
    "# left_soup = soup.text\n",
    "# print(left_soup)\n",
    "# print(soup.prettify()) "
   ]
  },
  {
   "cell_type": "code",
   "execution_count": 20,
   "id": "f36c8175",
   "metadata": {},
   "outputs": [
    {
     "name": "stdout",
     "output_type": "stream",
     "text": [
      "Home\n"
     ]
    }
   ],
   "source": [
    "s = soup.find('title')\n",
    "print(s.text)\n",
    "# print(soup.title.name)"
   ]
  },
  {
   "cell_type": "code",
   "execution_count": 21,
   "id": "aeac33b6",
   "metadata": {},
   "outputs": [],
   "source": [
    "import io\n",
    "with io.open('log1.txt', 'a', encoding='utf8') as logfile:\n",
    "    logfile.write(s.text)"
   ]
  },
  {
   "cell_type": "code",
   "execution_count": null,
   "id": "08aad5e2",
   "metadata": {},
   "outputs": [],
   "source": [
    "import io\n",
    "\n",
    "with io.open('log.txt', 'a', encoding='utf8') as logfile:\n",
    "    for tr in soup.find_all('tr')[2:]:\n",
    "        tds = tr.find_all('td')\n",
    "        logfile.write(u\"%s, %s, %s\\n\" % (tds[0].text, tds[1].text, tds[2].text))"
   ]
  },
  {
   "cell_type": "code",
   "execution_count": null,
   "id": "9a933b56",
   "metadata": {},
   "outputs": [],
   "source": [
    "with open('file1.html') as file1, open('file2.html') as file2:\n",
    "    for file1Line, file2Line in zip(file1, file2):\n",
    "        if file1Line != file2Line:\n",
    "            print(file1Line.strip('\\n'))\n",
    "            print(file2Line.strip('\\n'))"
   ]
  }
 ],
 "metadata": {
  "kernelspec": {
   "display_name": "Python 3 (ipykernel)",
   "language": "python",
   "name": "python3"
  },
  "language_info": {
   "codemirror_mode": {
    "name": "ipython",
    "version": 3
   },
   "file_extension": ".py",
   "mimetype": "text/x-python",
   "name": "python",
   "nbconvert_exporter": "python",
   "pygments_lexer": "ipython3",
   "version": "3.12.2"
  }
 },
 "nbformat": 4,
 "nbformat_minor": 5
}
