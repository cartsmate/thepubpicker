{
 "cells": [
  {
   "cell_type": "code",
   "execution_count": null,
   "id": "5c7ee11e-c945-40c4-8240-523576105552",
   "metadata": {},
   "outputs": [],
   "source": [
    "# ITERATE THROUGH CLASS DICTIONARY\n",
    "import os\n",
    "import sys\n",
    "import inspect\n",
    "import pandas as pd\n",
    "module_path = os.path.abspath(os.path.join('..'))\n",
    "if module_path not in sys.path:\n",
    "    sys.path.append(module_path)\n",
    "\n",
    "from app.models.diary.diary import Diary\n",
    "from app.models.event.event_identity import EventIdentity\n",
    "\n",
    "# new_diary = Diary()\n",
    "# for key, value in Diary().__dict__.items():\n",
    "#     for k, val in value.__dict__.items():\n",
    "#         if k == 'name':\n",
    "#             key_list.append(val)\n",
    "#             key_item = val\n",
    "#         if k == 'value':\n",
    "#             if isinstance(val, EventIdentity):\n",
    "#                 for ky, vl in val.__dict__.items():\n",
    "#                     if ky == 'value':\n",
    "#                         new_val_list.append(vl)\n",
    "#                         value_item = vl\n",
    "#             else:\n",
    "#                 new_val_list.append(val)\n",
    "#                 value_item = val\n",
    "#             setattr(new_diary, key_item, value_item)\n",
    "# setattr(new_diary, 'pub_identity', pub_id)\n",
    "# df = pd.DataFrame([new_diary.__dict__])\n",
    "# df\n",
    "model = Diary()\n",
    "new_model = model\n",
    "for key, value in model.__dict__.items():\n",
    "\n",
    "    for k, v in value.__dict__.items():\n",
    "\n",
    "        if isinstance(v, EventIdentity):\n",
    "            for ky, vl in value.__dict__.items():\n",
    "                if ky == 'value':\n",
    "    \n",
    "                    print(vl.value)\n",
    "                    setattr(new_model, vl.name, vl.value)\n",
    "        else:\n",
    "            setattr(new_model, value.name, value.value)\n",
    "# setattr(new_model, 'pub_identity', '999')\n",
    "# df = pd.DataFrame([new_model.__dict__])\n",
    "# df\n"
   ]
  },
  {
   "cell_type": "code",
   "execution_count": null,
   "id": "8b1987e5-a238-47d7-ad13-de63a22f6368",
   "metadata": {},
   "outputs": [],
   "source": [
    "# ITERATE THROUGH CLASS DICTIONARY KEYS \n",
    "for detail in list(Detail().__dict__.keys()):\n",
    "    print(detail)\n",
    "    print(detail + ' : ' + request.form[detail])\n",
    "    df_details.loc[df_details['pub_identity'] == pub_id, detail] = request.form[detail]\n",
    "    "
   ]
  },
  {
   "cell_type": "code",
   "execution_count": null,
   "id": "50f55b3b-f14d-4c7d-bfab-42bd925f270e",
   "metadata": {},
   "outputs": [],
   "source": [
    "for k, v in d.items():\n",
    "    if isinstance(v, dict):\n",
    "        myprint(v)\n",
    "    else:\n",
    "        print(\"{0} : {1}\".format(k, v))"
   ]
  }
 ],
 "metadata": {
  "kernelspec": {
   "display_name": "Python 3 (ipykernel)",
   "language": "python",
   "name": "python3"
  },
  "language_info": {
   "codemirror_mode": {
    "name": "ipython",
    "version": 3
   },
   "file_extension": ".py",
   "mimetype": "text/x-python",
   "name": "python",
   "nbconvert_exporter": "python",
   "pygments_lexer": "ipython3",
   "version": "3.12.2"
  }
 },
 "nbformat": 4,
 "nbformat_minor": 5
}
