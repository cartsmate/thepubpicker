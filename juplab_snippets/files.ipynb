{
 "cells": [
  {
   "cell_type": "code",
   "execution_count": null,
   "id": "a192bdf3-9be7-457a-a362-be7738a0694e",
   "metadata": {},
   "outputs": [],
   "source": [
    "import os\n",
    "import csv\n",
    "import pandas as pd\n",
    "import numpy as np\n",
    "directory_path = os.getcwd()\n",
    "full_file = []\n",
    "days_of_the_week = ['monday','tuesday','wednesday','thursday','friday','saturday','sunday']\n",
    "df_events = pd.read_csv(directory_path + '/events.csv')\n"
   ]
  },
  {
   "cell_type": "code",
   "execution_count": null,
   "id": "e49860c2-3c74-487a-a4dd-77375abcdc69",
   "metadata": {},
   "outputs": [],
   "source": [
    "# READ CSV FILE\n",
    "with open(directory_path + '/details.csv') as csv_file:\n",
    "    next(csv_file)\n",
    "    csv_reader = csv.reader(csv_file, delimiter=',')\n"
   ]
  },
  {
   "cell_type": "code",
   "execution_count": null,
   "id": "811cfe76-4147-46c4-b4ab-b0e63969b0eb",
   "metadata": {},
   "outputs": [],
   "source": [
    "# ITERATE THROUGH CSV FILE\n",
    "    for row in csv_reader:\n",
    "        new_line = []\n",
    "        # print(row[0])\n",
    "        df_filtered = df_events.loc[(df_events['pub_identity'] == row[0])]\n",
    "        # print(df_filtered)\n",
    "        new_line.append(row[0])\n",
    "        for day in days_of_the_week:\n",
    "            # print(day)\n",
    "            try:\n",
    "                df_day = df_filtered.loc[(df_filtered['event_day'] == day)]\n",
    "                var_event = df_day['event_identity'].values[0]\n",
    "            except IndexError:\n",
    "                var_event = '0'\n",
    "            \n",
    "            # print(df_day['event_identity'].values[0])\n",
    "            new_line.append(var_event)\n",
    "        full_file.append(new_line)\n",
    "        # break\n"
   ]
  },
  {
   "cell_type": "code",
   "execution_count": null,
   "id": "2ef7e8a7-6795-481e-bb92-a4106190b2cd",
   "metadata": {},
   "outputs": [],
   "source": [
    "# WRITE TO CSV FILE\n",
    "with open('diary.csv', 'w', newline='') as f:\n",
    "    writer = csv.writer(f)\n",
    "    writer.writerows(full_file)\n",
    "    "
   ]
  },
  {
   "cell_type": "code",
   "execution_count": null,
   "id": "a52e144e-44ca-4dca-9618-4277d47b073e",
   "metadata": {},
   "outputs": [],
   "source": [
    "# ABSOLUTE PATH\n",
    "\n",
    "import os\n",
    "directory_path = os.getcwd()\n",
    "print(directory_path)\n",
    "# from app.models.detail.detail import Detail\n",
    "directory_path_1 = os.path.abspath(os.path.join(directory_path, os.pardir))\n",
    "from directory_path_1.app.models.detail.detail import Detail\n"
   ]
  },
  {
   "cell_type": "code",
   "execution_count": null,
   "id": "edfa1754-3b36-4985-916d-7033bc47f378",
   "metadata": {},
   "outputs": [],
   "source": [
    "# IMPORTLIB LIBRARY\n",
    "\n",
    "import importlib.util\n",
    "import sys\n",
    "import os\n",
    "directory_path = os.getcwd()\n",
    "directory_path_1 = str(os.path.abspath(os.path.join(directory_path, os.pardir)))\n",
    "\n",
    "full_path = directory_path_1 + \"/app/models/detail/detail.py\"\n",
    "print(full_path)\n",
    "spec = importlib.util.spec_from_file_location(\"Detail\", full_path)\n",
    "foo = importlib.util.module_from_spec(spec)\n",
    "sys.modules[\"Detail\"] = foo\n",
    "spec.loader.exec_module(foo)\n",
    "foo.MyClass()\n"
   ]
  },
  {
   "cell_type": "code",
   "execution_count": null,
   "id": "51cf5263-369e-41ee-9631-be0cb4c702fd",
   "metadata": {},
   "outputs": [],
   "source": [
    "# COMPARE FILES\n",
    "with open('file1.html') as file1, open('file2.html') as file2:\n",
    "    for file1Line, file2Line in zip(file1, file2):\n",
    "        if file1Line != file2Line:\n",
    "            print(file1Line.strip('\\n'))\n",
    "            print(file2Line.strip('\\n'))\n",
    "            "
   ]
  },
  {
   "cell_type": "code",
   "execution_count": null,
   "id": "5ae4b79f-94e8-462f-bf1b-f00ab5cfcc8a",
   "metadata": {},
   "outputs": [],
   "source": [
    "with open(f'{pathway}/files/df_combined.csv', 'r') as t1, open(f'{pathway}/files/df_combined2.csv', 'r') as t2:\n",
    "    fileone = t1.readlines()\n",
    "    filetwo = t2.readlines()\n",
    "\n",
    "i=0\n",
    "for line in filetwo:\n",
    "    if line not in fileone:\n",
    "        i +=1\n",
    "print(i)"
   ]
  },
  {
   "cell_type": "code",
   "execution_count": null,
   "id": "a72e7b0e-527d-4cf6-bd9b-a187d3cedc47",
   "metadata": {},
   "outputs": [],
   "source": [
    "# ITERATE THROUGH FILE\n",
    "import io\n",
    "\n",
    "with io.open('log.txt', 'a', encoding='utf8') as logfile:\n",
    "    for tr in soup.find_all('tr')[2:]:\n",
    "        tds = tr.find_all('td')\n",
    "        logfile.write(u\"%s, %s, %s\\n\" % (tds[0].text, tds[1].text, tds[2].text))\n",
    "        "
   ]
  },
  {
   "cell_type": "code",
   "execution_count": null,
   "id": "a527ce52-d399-47ed-95c5-bad8df94cd66",
   "metadata": {},
   "outputs": [],
   "source": [
    "# WRITE TO LOG FILE\n",
    "import io\n",
    "with io.open('log1.txt', 'a', encoding='utf8') as logfile:\n",
    "    logfile.write(s.text)"
   ]
  }
 ],
 "metadata": {
  "kernelspec": {
   "display_name": "Python 3 (ipykernel)",
   "language": "python",
   "name": "python3"
  },
  "language_info": {
   "codemirror_mode": {
    "name": "ipython",
    "version": 3
   },
   "file_extension": ".py",
   "mimetype": "text/x-python",
   "name": "python",
   "nbconvert_exporter": "python",
   "pygments_lexer": "ipython3",
   "version": "3.12.2"
  }
 },
 "nbformat": 4,
 "nbformat_minor": 5
}
