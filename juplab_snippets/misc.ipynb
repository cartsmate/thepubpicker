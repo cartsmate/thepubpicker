{
 "cells": [
  {
   "cell_type": "code",
   "execution_count": null,
   "id": "4b827ff5-0cab-49c3-a2b2-77309fbf39bc",
   "metadata": {},
   "outputs": [],
   "source": [
    "# DATATIME and TIME LIBRARIES\n",
    "import datetime\n",
    "import time\n",
    "\n",
    "t1 = datetime.datetime.now()\n",
    "t1_day = t1.weekday()\n",
    "\n",
    "time.sleep(2.5)\n",
    "\n",
    "t2 = datetime.datetime.now()\n",
    "t2_day = t2.weekday()\n",
    "\n",
    "_1_day = datetime.timedelta(days=1)\n",
    "t3 = datetime.datetime.now() - t1\n",
    "if ((t2 - t1) > datetime.timedelta(days=1) or t1.weekday() != t2.weekday()):\n",
    "    print(\"next day\")\n",
    "else:\n",
    "    print(\"same day\")\n",
    "\n",
    "\n",
    "# print('Timestamp: {:%Y-%m-%d %H:%M:%S}'.format(datetime.datetime.now()))\n",
    "# print('Timestamp: {:%Y-%b-%d %H:%M:%S}'.format(datetime.datetime.now()))\n",
    "# print('Date now: %s' % datetime.datetime.now())\n",
    "# print('Date today: %s' % datetime.date.today())\n",
    "\n",
    "# today = datetime.date.today()\n",
    "# print(\"Today's date is {:%b, %d %Y}\".format(today))\n"
   ]
  },
  {
   "cell_type": "code",
   "execution_count": null,
   "id": "363f7d97-a036-450e-b4ad-09a9ac046a61",
   "metadata": {},
   "outputs": [],
   "source": [
    "# CREATE AND SPLIT LISTS\n",
    "test_str = 'pub_identity,detail_name,address,category,detail_latitude,detail_longitude,extra,place,ranking,website,url,color,scenic,sport,garden,music,\\\n",
    "roast,brunch,late,quiz,pool,dart,entertain,history,favourite,cocktail,beer,wine,outdoor,restaurant,nofeature,private,dj,comedy,karaoke,timeout,\\\n",
    "hours,monday,tuesday,wednesday,thursday,friday,saturday,sunday,station_name,direction_name,station_identity,direction_identity'\n",
    "test_list = test_str.split(',')\n",
    "# test_str.count(',')\n",
    "test_list.sort()\n",
    "print(test_list)\n",
    "s = \"','\".join(test_list)\n",
    "s2 = \",\".join(test_list)\n",
    "print(f\"'{s}'\")\n",
    "print(f\"{s2}\")\n"
   ]
  },
  {
   "cell_type": "code",
   "execution_count": null,
   "id": "8d8bf699-8eb6-4ae5-bb85-f93cf81af913",
   "metadata": {},
   "outputs": [],
   "source": [
    "# LIST GENERATOR\n",
    "dupes_list = [x for x in long_list if x not in short_list]\n",
    "print(dupes_list)\n"
   ]
  },
  {
   "cell_type": "code",
   "execution_count": 2,
   "id": "cdc83e95-686a-4791-b86b-e137fbf16855",
   "metadata": {},
   "outputs": [
    {
     "ename": "NameError",
     "evalue": "name 'full_list' is not defined",
     "output_type": "error",
     "traceback": [
      "\u001b[0;31m---------------------------------------------------------------------------\u001b[0m",
      "\u001b[0;31mNameError\u001b[0m                                 Traceback (most recent call last)",
      "Cell \u001b[0;32mIn[2], line 2\u001b[0m\n\u001b[1;32m      1\u001b[0m \u001b[38;5;28;01mimport\u001b[39;00m \u001b[38;5;21;01mcollections\u001b[39;00m\n\u001b[0;32m----> 2\u001b[0m dupe_place_list \u001b[38;5;241m=\u001b[39m [item \u001b[38;5;28;01mfor\u001b[39;00m item, count \u001b[38;5;129;01min\u001b[39;00m collections\u001b[38;5;241m.\u001b[39mCounter(\u001b[43mfull_list\u001b[49m)\u001b[38;5;241m.\u001b[39mitems() \u001b[38;5;28;01mif\u001b[39;00m count \u001b[38;5;241m>\u001b[39m \u001b[38;5;241m1\u001b[39m]\n\u001b[1;32m      3\u001b[0m \u001b[38;5;28mprint\u001b[39m(\u001b[38;5;28mlen\u001b[39m(dupe_place_list))\n",
      "\u001b[0;31mNameError\u001b[0m: name 'full_list' is not defined"
     ]
    }
   ],
   "source": [
    "import collections\n",
    "dupe_place_list = [item for item, count in collections.Counter(full_list).items() if count > 1]\n",
    "print(len(dupe_place_list))\n"
   ]
  },
  {
   "cell_type": "code",
   "execution_count": null,
   "id": "8adcf9a6-ef57-41be-b9e6-c0baae3f3aae",
   "metadata": {},
   "outputs": [],
   "source": [
    "big_list = df_detail['pub_identity'].tolist()\n",
    "small_list = df_detail2['pub_identity'].tolist()\n",
    "\n",
    "dupes_list = [x for x in big_list if x not in small_list]\n",
    "print(len(dupes_list))\n",
    "print(dupes_list)"
   ]
  },
  {
   "cell_type": "code",
   "execution_count": null,
   "id": "10c8800c-b9b0-4787-8295-1b641b231796",
   "metadata": {},
   "outputs": [],
   "source": [
    "# FIND TEXT IN STRING\n",
    "s = soup.find('title')\n",
    "print(s.text)\n",
    "# print(soup.title.name)\n"
   ]
  },
  {
   "cell_type": "code",
   "execution_count": 1,
   "id": "0430ab0b-cbf8-4a35-a4bd-d544d0ee9f8c",
   "metadata": {},
   "outputs": [
    {
     "ename": "NameError",
     "evalue": "name 'place_list' is not defined",
     "output_type": "error",
     "traceback": [
      "\u001b[0;31m---------------------------------------------------------------------------\u001b[0m",
      "\u001b[0;31mNameError\u001b[0m                                 Traceback (most recent call last)",
      "Cell \u001b[0;32mIn[1], line 1\u001b[0m\n\u001b[0;32m----> 1\u001b[0m h \u001b[38;5;241m=\u001b[39m \u001b[43mplace_list\u001b[49m\n\u001b[1;32m      2\u001b[0m y \u001b[38;5;241m=\u001b[39m none_dupe_list\n\u001b[1;32m      4\u001b[0m d \u001b[38;5;241m=\u001b[39m {j:i \u001b[38;5;28;01mfor\u001b[39;00m i,j \u001b[38;5;129;01min\u001b[39;00m \u001b[38;5;28menumerate\u001b[39m(h)}\n",
      "\u001b[0;31mNameError\u001b[0m: name 'place_list' is not defined"
     ]
    }
   ],
   "source": [
    "df_detail = pd.DataFrame(result, columns=table_headers)\n",
    "full_list = df_detail['place'].tolist()\n",
    "print(len(full_list))\n",
    "place_list = df_detail['place'].tolist()\n",
    "print(place_list)\n",
    "h = place_list\n",
    "y = none_dupe_list\n",
    "\n",
    "d = {j:i for i,j in enumerate(h)}\n",
    "new_list  = sorted(list((set(h) - set(y))), key = lambda x: d[x])\n",
    "print(len(new_list))"
   ]
  }
 ],
 "metadata": {
  "kernelspec": {
   "display_name": "Python 3 (ipykernel)",
   "language": "python",
   "name": "python3"
  },
  "language_info": {
   "codemirror_mode": {
    "name": "ipython",
    "version": 3
   },
   "file_extension": ".py",
   "mimetype": "text/x-python",
   "name": "python",
   "nbconvert_exporter": "python",
   "pygments_lexer": "ipython3",
   "version": "3.12.2"
  }
 },
 "nbformat": 4,
 "nbformat_minor": 5
}
