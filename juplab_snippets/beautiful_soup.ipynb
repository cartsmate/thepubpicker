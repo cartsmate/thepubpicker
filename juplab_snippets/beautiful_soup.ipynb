{
 "cells": [
  {
   "cell_type": "code",
   "execution_count": 1,
   "id": "4974b832",
   "metadata": {},
   "outputs": [],
   "source": [
    "# REQUESTS and BEAUTIFUL SOUP\n",
    "\n",
    "import requests \n",
    "from bs4 import BeautifulSoup \n",
    "  \n",
    "  \n",
    "# Making a GET request \n",
    "# r = requests.get('https://www.geeksforgeeks.org/python-programming-language/') \n",
    "r = requests.get('http://www.thepubcrawls.co.uk/home/') \n",
    "  \n",
    "# check status code for response received \n",
    "# success code - 200 \n",
    "# print(r) \n",
    "  \n",
    "# Parsing the HTML \n",
    "soup = BeautifulSoup(r.content, 'html.parser')\n",
    "# print(soup)\n",
    "# left_soup = soup.text\n",
    "# print(left_soup)\n",
    "# print(soup.prettify()) \n"
   ]
  },
  {
   "cell_type": "code",
   "execution_count": 21,
   "id": "aeac33b6",
   "metadata": {},
   "outputs": [],
   "source": [
    "# REQUESTS and BEAUTIFUL SOUP\n",
    "\n",
    "import requests \n",
    "from urllib.request import urlopen\n",
    "from bs4 import BeautifulSoup \n",
    "jupyter notebook --NotebookApp.iopub_data_rate_limit=1.0e10\n",
    "quote_page = \"https://www.ucl.ac.uk/~ccaajpa/pubs-listed.html\" \n",
    "# html = urlopen(quote_page).read()\n",
    "response = requests.get(quote_page)\n",
    "html_page = response.text\n",
    "soup = BeautifulSoup(html_page, 'html.parser')\n",
    "# print(soup) \n",
    "\n",
    "# soup = BeautifulSoup(r.content, 'html5lib') # If this line causes an error, run 'pip install html5lib' or install html5lib \n",
    "\n",
    "print(soup.prettify()) \n"
   ]
  },
  {
   "cell_type": "code",
   "execution_count": null,
   "id": "b0080bac-3b6e-450a-a62d-edcd95bc0534",
   "metadata": {},
   "outputs": [],
   "source": [
    "import requests \n",
    "from urllib.request import urlopen\n",
    "from bs4 import BeautifulSoup \n",
    "quote_page = \"https://www.ucl.ac.uk/~ccaajpa/pubs-listed.html\" \n",
    "response = requests.get(quote_page)\n",
    "html_page = response.text\n",
    "\n",
    "# print(html_page)\n",
    "\n",
    "\n",
    "# soup = BeautifulSoup(html_page, 'html.parser')\n",
    "# li = soup.prettify().split('\\n')\n",
    "# for i in range(15):\n",
    "#     print(str(li[i]))"
   ]
  },
  {
   "cell_type": "code",
   "execution_count": 3,
   "id": "4dbadfea-cf08-48f9-ab1b-09ae930543c3",
   "metadata": {},
   "outputs": [],
   "source": [
    "import json\n",
    "import requests \n",
    "import threading\n",
    "from bs4 import BeautifulSoup \n",
    "\n",
    "\n",
    "def lambda_handler(event, context):\n",
    "    r = requests.get('https://glastonbury.seetickets.com/content/extras')    \n",
    "    soup = BeautifulSoup(r.content, 'html.parser') \n",
    "    sold_out = True\n",
    "    \n",
    "    for content in soup.find_all('p'):\n",
    "        if \"sold out\" in content:\n",
    "            sold_out = False\n",
    "            print('still sold out')\n",
    "            break\n",
    "    \n",
    "    if sold_out == False:\n",
    "        print('QUICK GET ON LINE')\n",
    "    else:\n",
    "        print('stay sad, still sold out')\n"
   ]
  },
  {
   "cell_type": "code",
   "execution_count": 7,
   "id": "1d233540-817f-468e-a2da-1933add75d55",
   "metadata": {},
   "outputs": [
    {
     "name": "stdout",
     "output_type": "stream",
     "text": [
      "stay sad, still sold out\n"
     ]
    }
   ],
   "source": [
    "# lambda_handler()\n",
    "\n"
   ]
  },
  {
   "cell_type": "code",
   "execution_count": null,
   "id": "ac608b98-e866-4dff-8832-ba67cf8d60a2",
   "metadata": {},
   "outputs": [],
   "source": [
    "class MyThread(Thread):\n",
    "    def __init__(self, event):\n",
    "        Thread.__init__(self)\n",
    "        self.stopped = event\n",
    "\n",
    "    def run(self):\n",
    "        while not self.stopped.wait(0.5):\n",
    "            print(\"my thread\")\n",
    "            # call a function\n",
    "\n",
    "\n",
    "stopFlag = Event()\n",
    "thread = MyThread(stopFlag)\n",
    "thread.start()\n",
    "# this will stop the timer\n",
    "stopFlag.set()\n"
   ]
  },
  {
   "cell_type": "code",
   "execution_count": 1,
   "id": "3ce67305-9435-4998-9a89-8228839a793e",
   "metadata": {},
   "outputs": [],
   "source": [
    "# threading.Timer(5.0, lambda_handler).cancel()"
   ]
  },
  {
   "cell_type": "code",
   "execution_count": 23,
   "id": "75bc680b-5128-4b05-a61a-25fee491be93",
   "metadata": {},
   "outputs": [],
   "source": [
    "import boto3\n",
    "import os\n",
    "import requests \n",
    "\n",
    "from bs4 import BeautifulSoup \n",
    "from dotenv import load_dotenv\n",
    "from pathlib import Path\n"
   ]
  },
  {
   "cell_type": "code",
   "execution_count": 45,
   "id": "de1e70f3-5a1c-4548-b685-2bb7e6f50acf",
   "metadata": {},
   "outputs": [
    {
     "name": "stdout",
     "output_type": "stream",
     "text": [
      "keyword: 'balance' found on site\n"
     ]
    }
   ],
   "source": [
    "r = requests.get('https://glastonbury.seetickets.com/content/extras')\n",
    "# r = requests.get('http://127.0.0.1:5000/')\n",
    "soup = BeautifulSoup(r.content, 'html.parser') \n",
    "# print(soup)\n",
    "\n",
    "finder_status = True\n",
    "search_phrase = 'balance'\n",
    "xs = soup.find_all('p')\n",
    "for idx, content in enumerate(xs):\n",
    "    # print(idx, content)\n",
    "    if search_phrase in str(content):\n",
    "        # print('sold OUT')\n",
    "        break\n",
    "    else:\n",
    "        # print('NOT sold out')\n",
    "        finder_status = False\n",
    "\n",
    "if finder_status:\n",
    "    print(f\"keyword: '{search_phrase}' found on site\")\n",
    "else:\n",
    "    config = get_config()\n",
    "    print(f\"keyword: '{search_phrase}' NOT found on site .... send warning text message\")\n",
    "    # send_text(config)\n",
    "\n",
    "        "
   ]
  },
  {
   "cell_type": "code",
   "execution_count": 26,
   "id": "860a9dc1-bb56-4629-b2d2-d5b03b6e8df0",
   "metadata": {},
   "outputs": [],
   "source": [
    "\n",
    "def get_config():\n",
    "    path = os.getcwd()\n",
    "    path = '/Users/andycarter/develop/pycharm/flask_projects/thepubpicker'\n",
    "    # print('path', path)\n",
    "    total_path = path + '/.env'\n",
    "    \n",
    "    dotenv_path = Path(total_path)\n",
    "    load_dotenv(dotenv_path=dotenv_path)\n",
    "    \n",
    "    config = {\n",
    "        \"ACCESS_ID\": os.environ.get(\"ACCESS_ID\"),\n",
    "        \"ACCESS_KEY\": os.environ.get(\"ACCESS_KEY\"),\n",
    "        \"CONTACT_TEL\": os.environ.get(\"CONTACT_TEL\")}\n",
    "    return config\n",
    "    "
   ]
  },
  {
   "cell_type": "code",
   "execution_count": 27,
   "id": "bb251faa-f0a3-4909-a036-d38297da7c50",
   "metadata": {},
   "outputs": [],
   "source": [
    "def send_text(config):\n",
    "    sns = boto3.client('sns', \n",
    "                       region_name='eu-west-2',\n",
    "                       aws_access_key_id=config['ACCESS_ID'],\n",
    "                       aws_secret_access_key= config['ACCESS_KEY'])\n",
    "    sns.publish(PhoneNumber = config['CONTACT_TEL'], \n",
    "                Message='example text message' )\n",
    "    "
   ]
  }
 ],
 "metadata": {
  "kernelspec": {
   "display_name": "Python 3 (ipykernel)",
   "language": "python",
   "name": "python3"
  },
  "language_info": {
   "codemirror_mode": {
    "name": "ipython",
    "version": 3
   },
   "file_extension": ".py",
   "mimetype": "text/x-python",
   "name": "python",
   "nbconvert_exporter": "python",
   "pygments_lexer": "ipython3",
   "version": "3.12.2"
  }
 },
 "nbformat": 4,
 "nbformat_minor": 5
}
