{
 "cells": [
  {
   "cell_type": "code",
   "execution_count": 2,
   "id": "a743f1cb-d864-40cb-b88a-12009d468d79",
   "metadata": {},
   "outputs": [
    {
     "name": "stdout",
     "output_type": "stream",
     "text": [
      "0980684f-b961-4de1-827b-9966e557e893\n"
     ]
    }
   ],
   "source": [
    "import uuid\n",
    "id = uuid.uuid4()\n",
    "print(id)"
   ]
  }
 ],
 "metadata": {
  "kernelspec": {
   "display_name": "Python 3 (ipykernel)",
   "language": "python",
   "name": "python3"
  },
  "language_info": {
   "codemirror_mode": {
    "name": "ipython",
    "version": 3
   },
   "file_extension": ".py",
   "mimetype": "text/x-python",
   "name": "python",
   "nbconvert_exporter": "python",
   "pygments_lexer": "ipython3",
   "version": "3.9.1"
  }
 },
 "nbformat": 4,
 "nbformat_minor": 5
}
