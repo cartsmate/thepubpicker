{
 "cells": [
  {
   "cell_type": "code",
   "execution_count": 21,
   "id": "9d3e438d-6990-4ca9-9257-394bac7b289b",
   "metadata": {},
   "outputs": [
    {
     "name": "stdout",
     "output_type": "stream",
     "text": [
      "a6a89874-7876-440a-b193-e70860693e52\n"
     ]
    }
   ],
   "source": [
    "import uuid\n",
    "id = uuid.uuid4()\n",
    "print(id)"
   ]
  }
 ],
 "metadata": {
  "kernelspec": {
   "display_name": "Python 3 (ipykernel)",
   "language": "python",
   "name": "python3"
  },
  "language_info": {
   "codemirror_mode": {
    "name": "ipython",
    "version": 3
   },
   "file_extension": ".py",
   "mimetype": "text/x-python",
   "name": "python",
   "nbconvert_exporter": "python",
   "pygments_lexer": "ipython3",
   "version": "3.9.1"
  }
 },
 "nbformat": 4,
 "nbformat_minor": 5
}
