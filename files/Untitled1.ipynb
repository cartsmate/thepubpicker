{
 "cells": [
  {
   "cell_type": "code",
   "execution_count": 21,
   "id": "9d3e438d-6990-4ca9-9257-394bac7b289b",
   "metadata": {},
   "outputs": [
    {
     "name": "stdout",
     "output_type": "stream",
     "text": [
      "a6a89874-7876-440a-b193-e70860693e52\n"
     ]
    }
   ],
   "source": [
    "import uuid\n",
    "id = uuid.uuid4()\n",
    "print(id)"
   ]
  },
  {
   "cell_type": "code",
   "execution_count": 23,
   "id": "c5838961-ff44-4304-b696-87232599a623",
   "metadata": {},
   "outputs": [
    {
     "name": "stdout",
     "output_type": "stream",
     "text": [
      "Requirement already satisfied: beautifulsoup4 in /Library/Frameworks/Python.framework/Versions/3.9/lib/python3.9/site-packages (4.11.1)\n",
      "Requirement already satisfied: soupsieve>1.2 in /Library/Frameworks/Python.framework/Versions/3.9/lib/python3.9/site-packages (from beautifulsoup4) (2.3.2.post1)\n",
      "\u001b[33mWARNING: You are using pip version 20.3.3; however, version 23.3.1 is available.\n",
      "You should consider upgrading via the '/Library/Frameworks/Python.framework/Versions/3.9/bin/python3 -m pip install --upgrade pip' command.\u001b[0m\n",
      "Note: you may need to restart the kernel to use updated packages.\n"
     ]
    }
   ],
   "source": [
    "pip install beautifulsoup4"
   ]
  },
  {
   "cell_type": "code",
   "execution_count": null,
   "id": "a8518a9d-870c-432c-9447-33492326130d",
   "metadata": {},
   "outputs": [],
   "source": [
    "import requests \n",
    "from bs4 import BeautifulSoup \n",
    "  \n",
    "  \n",
    "# Making a GET request \n",
    "r = requests.get('https://www.thepubcrawls.co.uk') \n",
    "  \n",
    "# check status code for response received \n",
    "# success code - 200 \n",
    "print(r) \n",
    "  \n",
    "# Parsing the HTML \n",
    "soup = BeautifulSoup(r.content, 'html.parser') \n",
    "print(soup.prettify()) "
   ]
  },
  {
   "cell_type": "code",
   "execution_count": null,
   "id": "baa59f99-c238-4072-a2a1-db5e7581b80b",
   "metadata": {},
   "outputs": [],
   "source": [
    "\n",
    "url = \"https://www.thepubcrawls.co.uk\"  # Replace with the URL of the webpage you want to monitor\n",
    "interval = 60  # Check every 60 seconds\n",
    "\n",
    "previous_hash = None\n",
    "\n",
    "while True:\n",
    "    content = get_page_content(url)\n",
    "\n",
    "    if content:\n",
    "        current_hash = hash_content(content)\n",
    "\n",
    "        if previous_hash is None:\n",
    "            # Initial run, just set the hash\n",
    "            previous_hash = current_hash\n",
    "        elif current_hash != previous_hash:\n",
    "            print(\"Webpage has changed!\")\n",
    "            # Add your notification or other logic here\n",
    "\n",
    "        previous_hash = current_hash\n",
    "\n",
    "    time.sleep(interval)\n"
   ]
  }
 ],
 "metadata": {
  "kernelspec": {
   "display_name": "Python 3 (ipykernel)",
   "language": "python",
   "name": "python3"
  },
  "language_info": {
   "codemirror_mode": {
    "name": "ipython",
    "version": 3
   },
   "file_extension": ".py",
   "mimetype": "text/x-python",
   "name": "python",
   "nbconvert_exporter": "python",
   "pygments_lexer": "ipython3",
   "version": "3.9.1"
  }
 },
 "nbformat": 4,
 "nbformat_minor": 5
}
