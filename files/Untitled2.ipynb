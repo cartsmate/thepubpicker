{
 "cells": [
  {
   "cell_type": "code",
   "execution_count": 10,
   "id": "7bcb39c0-11b9-4f7a-9277-0ca3ab7ffe15",
   "metadata": {},
   "outputs": [
    {
     "data": {
      "text/html": [
       "<div>\n",
       "<style scoped>\n",
       "    .dataframe tbody tr th:only-of-type {\n",
       "        vertical-align: middle;\n",
       "    }\n",
       "\n",
       "    .dataframe tbody tr th {\n",
       "        vertical-align: top;\n",
       "    }\n",
       "\n",
       "    .dataframe thead th {\n",
       "        text-align: right;\n",
       "    }\n",
       "</style>\n",
       "<table border=\"1\" class=\"dataframe\">\n",
       "  <thead>\n",
       "    <tr style=\"text-align: right;\">\n",
       "      <th></th>\n",
       "      <th>pub_identity</th>\n",
       "      <th>station_identity</th>\n",
       "      <th>detail_deletion</th>\n",
       "      <th>detail_name</th>\n",
       "      <th>address</th>\n",
       "      <th>category</th>\n",
       "      <th>colour</th>\n",
       "      <th>place</th>\n",
       "      <th>detail_latitude</th>\n",
       "      <th>detail_longitude</th>\n",
       "      <th>rank</th>\n",
       "      <th>extra</th>\n",
       "    </tr>\n",
       "  </thead>\n",
       "  <tbody>\n",
       "    <tr>\n",
       "      <th>0</th>\n",
       "      <td>6d9c8d4e-fa1d-433d-aea4-ff3f5c36cb64</td>\n",
       "      <td>f5b94c64-beb5-4295-95a1-34fc1f5b5a8d</td>\n",
       "      <td>True</td>\n",
       "      <td>Shard Quarter</td>\n",
       "      <td>297 Hoxton St, London N1 5JX, UK</td>\n",
       "      <td>Bar</td>\n",
       "      <td>#000000</td>\n",
       "      <td>ChIJta8CEZoddkgRzUPFFO6tYHc</td>\n",
       "      <td>51.5043</td>\n",
       "      <td>-0.086371</td>\n",
       "      <td>4.6</td>\n",
       "      <td>Women made wine shop</td>\n",
       "    </tr>\n",
       "  </tbody>\n",
       "</table>\n",
       "</div>"
      ],
      "text/plain": [
       "                           pub_identity                      station_identity  \\\n",
       "0  6d9c8d4e-fa1d-433d-aea4-ff3f5c36cb64  f5b94c64-beb5-4295-95a1-34fc1f5b5a8d   \n",
       "\n",
       "  detail_deletion    detail_name                           address category  \\\n",
       "0            True  Shard Quarter  297 Hoxton St, London N1 5JX, UK      Bar   \n",
       "\n",
       "    colour                        place  detail_latitude  detail_longitude  \\\n",
       "0  #000000  ChIJta8CEZoddkgRzUPFFO6tYHc          51.5043         -0.086371   \n",
       "\n",
       "   rank                 extra  \n",
       "0   4.6  Women made wine shop  "
      ]
     },
     "execution_count": 10,
     "metadata": {},
     "output_type": "execute_result"
    }
   ],
   "source": [
    "# directory_path = config2['directory_path']\n",
    "import os\n",
    "import pandas as pd\n",
    "directory_path = os.getcwd()\n",
    "df_details = pd.read_csv(directory_path + '/details_park.csv', dtype={'pub_identity': str,\n",
    "                                                       'station_identity': str, 'detail_deletion': str,\n",
    "                                                       'detail_name': str, 'address': str, 'category': str,\n",
    "                                                       'colour': str, 'place': str, 'detail_latitude': float,\n",
    "                                                       'detail_longitude': float, 'rank': float,\n",
    "                                                       'extra': str})\n",
    "df_details.head(1)"
   ]
  },
  {
   "cell_type": "code",
   "execution_count": 11,
   "id": "5a50be21-bcf6-464a-a2de-9d437c28b306",
   "metadata": {},
   "outputs": [
    {
     "data": {
      "text/html": [
       "<div>\n",
       "<style scoped>\n",
       "    .dataframe tbody tr th:only-of-type {\n",
       "        vertical-align: middle;\n",
       "    }\n",
       "\n",
       "    .dataframe tbody tr th {\n",
       "        vertical-align: top;\n",
       "    }\n",
       "\n",
       "    .dataframe thead th {\n",
       "        text-align: right;\n",
       "    }\n",
       "</style>\n",
       "<table border=\"1\" class=\"dataframe\">\n",
       "  <thead>\n",
       "    <tr style=\"text-align: right;\">\n",
       "      <th></th>\n",
       "      <th>pub_identity</th>\n",
       "      <th>station_identity</th>\n",
       "      <th>detail_name</th>\n",
       "      <th>address</th>\n",
       "      <th>category</th>\n",
       "      <th>colour</th>\n",
       "      <th>detail_deletion</th>\n",
       "      <th>detail_latitude</th>\n",
       "      <th>detail_longitude</th>\n",
       "      <th>extra</th>\n",
       "      <th>place</th>\n",
       "      <th>rank</th>\n",
       "    </tr>\n",
       "  </thead>\n",
       "  <tbody>\n",
       "    <tr>\n",
       "      <th>0</th>\n",
       "      <td>6d9c8d4e-fa1d-433d-aea4-ff3f5c36cb64</td>\n",
       "      <td>f5b94c64-beb5-4295-95a1-34fc1f5b5a8d</td>\n",
       "      <td>Shard Quarter</td>\n",
       "      <td>297 Hoxton St, London N1 5JX, UK</td>\n",
       "      <td>Bar</td>\n",
       "      <td>#000000</td>\n",
       "      <td>True</td>\n",
       "      <td>51.5043</td>\n",
       "      <td>-0.086371</td>\n",
       "      <td>Women made wine shop</td>\n",
       "      <td>ChIJta8CEZoddkgRzUPFFO6tYHc</td>\n",
       "      <td>4.6</td>\n",
       "    </tr>\n",
       "  </tbody>\n",
       "</table>\n",
       "</div>"
      ],
      "text/plain": [
       "                           pub_identity                      station_identity  \\\n",
       "0  6d9c8d4e-fa1d-433d-aea4-ff3f5c36cb64  f5b94c64-beb5-4295-95a1-34fc1f5b5a8d   \n",
       "\n",
       "     detail_name                           address category   colour  \\\n",
       "0  Shard Quarter  297 Hoxton St, London N1 5JX, UK      Bar  #000000   \n",
       "\n",
       "  detail_deletion  detail_latitude  detail_longitude                 extra  \\\n",
       "0            True          51.5043         -0.086371  Women made wine shop   \n",
       "\n",
       "                         place  rank  \n",
       "0  ChIJta8CEZoddkgRzUPFFO6tYHc   4.6  "
      ]
     },
     "execution_count": 11,
     "metadata": {},
     "output_type": "execute_result"
    }
   ],
   "source": [
    "df_new = df_details[['pub_identity','station_identity','detail_name','address','category','colour','detail_deletion','detail_latitude','detail_longitude','extra','place','rank']]\n",
    "df_new.head(1)"
   ]
  },
  {
   "cell_type": "code",
   "execution_count": 12,
   "id": "aaf7063b-2dc2-409d-9a3c-72a2c24bcb99",
   "metadata": {},
   "outputs": [],
   "source": [
    "df_new.to_csv(directory_path + '/details_park2.csv', index=False, sep=',', encoding='utf-8')"
   ]
  }
 ],
 "metadata": {
  "kernelspec": {
   "display_name": "Python 3 (ipykernel)",
   "language": "python",
   "name": "python3"
  },
  "language_info": {
   "codemirror_mode": {
    "name": "ipython",
    "version": 3
   },
   "file_extension": ".py",
   "mimetype": "text/x-python",
   "name": "python",
   "nbconvert_exporter": "python",
   "pygments_lexer": "ipython3",
   "version": "3.9.1"
  }
 },
 "nbformat": 4,
 "nbformat_minor": 5
}
