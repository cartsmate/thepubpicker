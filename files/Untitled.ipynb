{
 "cells": [
  {
   "cell_type": "code",
   "execution_count": 10,
   "id": "87185478",
   "metadata": {},
   "outputs": [
    {
     "data": {
      "text/html": [
       "<div>\n",
       "<style scoped>\n",
       "    .dataframe tbody tr th:only-of-type {\n",
       "        vertical-align: middle;\n",
       "    }\n",
       "\n",
       "    .dataframe tbody tr th {\n",
       "        vertical-align: top;\n",
       "    }\n",
       "\n",
       "    .dataframe thead th {\n",
       "        text-align: right;\n",
       "    }\n",
       "</style>\n",
       "<table border=\"1\" class=\"dataframe\">\n",
       "  <thead>\n",
       "    <tr style=\"text-align: right;\">\n",
       "      <th></th>\n",
       "      <th>photo_identity</th>\n",
       "      <th>photo_deletion</th>\n",
       "      <th>pub_identity</th>\n",
       "    </tr>\n",
       "  </thead>\n",
       "  <tbody>\n",
       "    <tr>\n",
       "      <th>0</th>\n",
       "      <td>55930a30-3a3c-4fc6-90bc-0a42f138f169</td>\n",
       "      <td>False</td>\n",
       "      <td>6d9c8d4e-fa1d-433d-aea4-ff3f5c36cb64</td>\n",
       "    </tr>\n",
       "    <tr>\n",
       "      <th>1</th>\n",
       "      <td>8ddf4ae7-402c-4ac6-90b1-411e9cc8ac1e</td>\n",
       "      <td>False</td>\n",
       "      <td>fd1f6053-8868-419a-a445-fd24a21e8b99</td>\n",
       "    </tr>\n",
       "  </tbody>\n",
       "</table>\n",
       "</div>"
      ],
      "text/plain": [
       "                         photo_identity  photo_deletion  \\\n",
       "0  55930a30-3a3c-4fc6-90bc-0a42f138f169           False   \n",
       "1  8ddf4ae7-402c-4ac6-90b1-411e9cc8ac1e           False   \n",
       "\n",
       "                           pub_identity  \n",
       "0  6d9c8d4e-fa1d-433d-aea4-ff3f5c36cb64  \n",
       "1  fd1f6053-8868-419a-a445-fd24a21e8b99  "
      ]
     },
     "execution_count": 10,
     "metadata": {},
     "output_type": "execute_result"
    }
   ],
   "source": [
    "import pandas as pd\n",
    "df = pd.read_csv('photos.csv')\n",
    "df"
   ]
  },
  {
   "cell_type": "code",
   "execution_count": 11,
   "id": "78f34169",
   "metadata": {},
   "outputs": [
    {
     "data": {
      "text/html": [
       "<div>\n",
       "<style scoped>\n",
       "    .dataframe tbody tr th:only-of-type {\n",
       "        vertical-align: middle;\n",
       "    }\n",
       "\n",
       "    .dataframe tbody tr th {\n",
       "        vertical-align: top;\n",
       "    }\n",
       "\n",
       "    .dataframe thead th {\n",
       "        text-align: right;\n",
       "    }\n",
       "</style>\n",
       "<table border=\"1\" class=\"dataframe\">\n",
       "  <thead>\n",
       "    <tr style=\"text-align: right;\">\n",
       "      <th></th>\n",
       "      <th>photo_identity</th>\n",
       "      <th>photo_deletion</th>\n",
       "      <th>pub_identity</th>\n",
       "    </tr>\n",
       "  </thead>\n",
       "  <tbody>\n",
       "    <tr>\n",
       "      <th>0</th>\n",
       "      <td>55930a30-3a3c-4fc6-90bc-0a42f138f169</td>\n",
       "      <td>False</td>\n",
       "      <td>6d9c8d4e-fa1d-433d-aea4-ff3f5c36cb64</td>\n",
       "    </tr>\n",
       "    <tr>\n",
       "      <th>1</th>\n",
       "      <td>08d5c2db-d21d-43cf-9132-2b22280f3b95</td>\n",
       "      <td>False</td>\n",
       "      <td>fd1f6053-8868-419a-a445-fd24a21e8b99</td>\n",
       "    </tr>\n",
       "  </tbody>\n",
       "</table>\n",
       "</div>"
      ],
      "text/plain": [
       "                         photo_identity  photo_deletion  \\\n",
       "0  55930a30-3a3c-4fc6-90bc-0a42f138f169           False   \n",
       "1  08d5c2db-d21d-43cf-9132-2b22280f3b95           False   \n",
       "\n",
       "                           pub_identity  \n",
       "0  6d9c8d4e-fa1d-433d-aea4-ff3f5c36cb64  \n",
       "1  fd1f6053-8868-419a-a445-fd24a21e8b99  "
      ]
     },
     "execution_count": 11,
     "metadata": {},
     "output_type": "execute_result"
    }
   ],
   "source": [
    "import uuid\n",
    "import numpy as np\n",
    "new_id = uuid.uuid4()\n",
    "df['photo_identity'] = np.where(df['pub_identity'] == 'fd1f6053-8868-419a-a445-fd24a21e8b99', new_id, df['photo_identity'])\n",
    "df"
   ]
  },
  {
   "cell_type": "code",
   "execution_count": 8,
   "id": "ac4a2148",
   "metadata": {},
   "outputs": [],
   "source": [
    "df.to_csv('photos.csv', sep=',', encoding='utf-8', index=False)"
   ]
  },
  {
   "cell_type": "code",
   "execution_count": null,
   "id": "86bf0d12",
   "metadata": {},
   "outputs": [],
   "source": []
  }
 ],
 "metadata": {
  "kernelspec": {
   "display_name": "Python 3 (ipykernel)",
   "language": "python",
   "name": "python3"
  },
  "language_info": {
   "codemirror_mode": {
    "name": "ipython",
    "version": 3
   },
   "file_extension": ".py",
   "mimetype": "text/x-python",
   "name": "python",
   "nbconvert_exporter": "python",
   "pygments_lexer": "ipython3",
   "version": "3.9.1"
  }
 },
 "nbformat": 4,
 "nbformat_minor": 5
}
