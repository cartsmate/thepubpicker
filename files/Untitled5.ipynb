{
 "cells": [
  {
   "cell_type": "code",
   "execution_count": 6,
   "id": "1e4c7c41-5ebe-48e9-afa7-5be6b0d16363",
   "metadata": {},
   "outputs": [],
   "source": [
    "import os\n",
    "import pandas as pd\n",
    "import numpy as np\n",
    "import uuid\n",
    "directory_path = os.getcwd()\n",
    "dfc = pd.read_csv(directory_path + '/combined.csv')\n",
    "dfs = pd.read_csv(directory_path + '/station.csv')\n",
    "dfd = pd.read_csv(directory_path + '/direction.csv')\n",
    "dfc_new = pd.merge(dfc, dfs, on='station_name', how='left')\n",
    "\n",
    "dfc_new = dfc_new.drop('station_deletion', axis=1)\n",
    "dfc_new = dfc_new.drop('station_latitude', axis=1)\n",
    "dfc_new = dfc_new.drop('station_longitude', axis=1)\n",
    "dfc_new = dfc_new.drop('station_zone', axis=1)\n",
    "dfc_new = dfc_new.drop('postcode', axis=1)\n",
    "dfc_new\n",
    "# for i, row in df.iterrows():\n",
    "#     if row['review_identity'] == '8c411e33-bc0d-4bc6-8d9c-f7cfa2143583':\n",
    "#         new_var = uuid.uuid4()\n",
    "#         print(i)\n",
    "#         df.at[i, 'review_identity'] = new_var\n",
    "#         # df['review_identity'] = new_var\n",
    "#         # np.where(df['review_identity'] == 'b7ae115a-291f-4aea-891e-2d4ed0d3e6e6', uuid.uuid4(), df['review_identity'])\n",
    "\n",
    "    # df_det.at[i,'diary_identity'] = uuid.uuid4()\n",
    "# df_det['diary_identity'] = uuid.uuid4()\n",
    "\n",
    "dfc_new.to_csv(directory_path + '/combined.csv', index=False, sep=',', encoding='utf-8')"
   ]
  },
  {
   "cell_type": "code",
   "execution_count": 38,
   "id": "7b9d01b1-f173-4677-be5f-eb2df23a72d6",
   "metadata": {},
   "outputs": [
    {
     "name": "stdout",
     "output_type": "stream",
     "text": [
      "['address', 'beer', 'brunch', 'category', 'cocktail', 'color', 'comedy', 'dart', 'detail_latitude', 'detail_longitude', 'detail_name', 'direction_identity', 'direction_name', 'dj', 'entertain', 'extra', 'favourite', 'friday', 'garden', 'history', 'hours', 'karaoke', 'late', 'monday', 'music', 'nofeature', 'outdoor', 'place', 'pool', 'private', 'pub_identity', 'quiz', 'ranking', 'restaurant', 'roast', 'saturday', 'scenic', 'sport', 'station_identity', 'station_name', 'sunday', 'thursday', 'timeout', 'tuesday', 'url', 'website', 'wednesday', 'wine']\n",
      "'address','beer','brunch','category','cocktail','color','comedy','dart','detail_latitude','detail_longitude','detail_name','direction_identity','direction_name','dj','entertain','extra','favourite','friday','garden','history','hours','karaoke','late','monday','music','nofeature','outdoor','place','pool','private','pub_identity','quiz','ranking','restaurant','roast','saturday','scenic','sport','station_identity','station_name','sunday','thursday','timeout','tuesday','url','website','wednesday','wine'\n",
      "address,beer,brunch,category,cocktail,color,comedy,dart,detail_latitude,detail_longitude,detail_name,direction_identity,direction_name,dj,entertain,extra,favourite,friday,garden,history,hours,karaoke,late,monday,music,nofeature,outdoor,place,pool,private,pub_identity,quiz,ranking,restaurant,roast,saturday,scenic,sport,station_identity,station_name,sunday,thursday,timeout,tuesday,url,website,wednesday,wine\n"
     ]
    }
   ],
   "source": [
    "test_str = 'pub_identity,detail_name,address,category,detail_latitude,detail_longitude,extra,place,ranking,website,url,color,scenic,sport,garden,music,\\\n",
    "roast,brunch,late,quiz,pool,dart,entertain,history,favourite,cocktail,beer,wine,outdoor,restaurant,nofeature,private,dj,comedy,karaoke,timeout,\\\n",
    "hours,monday,tuesday,wednesday,thursday,friday,saturday,sunday,station_name,direction_name,station_identity,direction_identity'\n",
    "test_list = test_str.split(',')\n",
    "# test_str.count(',')\n",
    "test_list.sort()\n",
    "print(test_list)\n",
    "s = \"','\".join(test_list)\n",
    "s2 = \",\".join(test_list)\n",
    "print(f\"'{s}'\")\n",
    "print(f\"{s2}\")"
   ]
  },
  {
   "cell_type": "code",
   "execution_count": 70,
   "id": "21692fa1-fe53-4e1c-aad7-79f4cd06bef7",
   "metadata": {},
   "outputs": [
    {
     "name": "stdout",
     "output_type": "stream",
     "text": [
      "0\n",
      "\n",
      "INSERT INTO thepubpicker.pub_record (address,beer,brunch,category,cocktail,color,comedy,dart,detail_latitude,detail_longitude,detail_name,direction_identity,direction_name,dj,entertain,extra,favourite,friday,garden,history,hours,karaoke,late,monday,music,nofeature,outdoor,place,pool,private,pub_identity,quiz,ranking,restaurant,roast,saturday,scenic,sport,station_identity,station_name,sunday,thursday,timeout,tuesday,url,website,wednesday,wine) VALUES(/\n",
      "%s, %s, %s, %s, %s, %s, %s,%s, %s, %s, %s, %s, %s, %s,%s, %s, %s, %s, %s, %s, %s,%s, %s, %s, %s, %s, %s, %s,%s, %s, %s, %s, %s, %s, %s,%s, %s, %s, %s, %s, %s, %s,%s, %s, %s, %s, %s, %s) RETURNING *\n"
     ]
    },
    {
     "ename": "SyntaxError",
     "evalue": "syntax error at or near \"/\"\nLINE 2: ...hursday,timeout,tuesday,url,website,wednesday,wine) VALUES(/\n                                                                      ^\n",
     "output_type": "error",
     "traceback": [
      "\u001b[0;31m---------------------------------------------------------------------------\u001b[0m",
      "\u001b[0;31mSyntaxError\u001b[0m                               Traceback (most recent call last)",
      "Cell \u001b[0;32mIn[70], line 43\u001b[0m\n\u001b[1;32m     40\u001b[0m \u001b[38;5;66;03m# sql_str = 'insert into thepubpicker.pub_record(address) values (297 Hoxton St, N1 5JX)'\u001b[39;00m\n\u001b[1;32m     41\u001b[0m \u001b[38;5;66;03m# curs_obj.executemany(sql, pub_list)\u001b[39;00m\n\u001b[1;32m     42\u001b[0m \u001b[38;5;28mprint\u001b[39m(sql)\n\u001b[0;32m---> 43\u001b[0m \u001b[43mcurs_obj\u001b[49m\u001b[38;5;241;43m.\u001b[39;49m\u001b[43mexecute\u001b[49m\u001b[43m(\u001b[49m\u001b[43msql\u001b[49m\u001b[43m,\u001b[49m\u001b[43m \u001b[49m\u001b[43mpub_tuple\u001b[49m\u001b[43m)\u001b[49m    \n\u001b[1;32m     44\u001b[0m con\u001b[38;5;241m.\u001b[39mcommit()\n",
      "\u001b[0;31mSyntaxError\u001b[0m: syntax error at or near \"/\"\nLINE 2: ...hursday,timeout,tuesday,url,website,wednesday,wine) VALUES(/\n                                                                      ^\n"
     ]
    }
   ],
   "source": [
    "import psycopg2\n",
    "con = psycopg2.connect(\n",
    "   database=\"deb2u2ehdm8ih3\",\n",
    "   user=\"bjoonismanuyqb\",\n",
    "   password=\"42c662ab36a741716575f3e0101741349280622fff71ce246b15410de5c460d6\",\n",
    "   host=\"ec2-54-76-132-202.eu-west-1.compute.amazonaws.com\",\n",
    "   port= '5432'\n",
    "   )\n",
    "curs_obj = con.cursor()\n",
    "directory_path = os.getcwd()\n",
    "\n",
    "df = pd.read_csv(directory_path + '/combined.csv')\n",
    "df = df.fillna('')\n",
    "sql = f\"\"\"\n",
    "INSERT INTO thepubpicker.pub_record ({s2}) VALUES(/\n",
    "%s, %s, %s, %s, %s, %s, %s,\\\n",
    "%s, %s, %s, %s, %s, %s, %s,\\\n",
    "%s, %s, %s, %s, %s, %s, %s,\\\n",
    "%s, %s, %s, %s, %s, %s, %s,\\\n",
    "%s, %s, %s, %s, %s, %s, %s,\\\n",
    "%s, %s, %s, %s, %s, %s, %s,\\\n",
    "%s, %s, %s, %s, %s, %s) RETURNING *\"\"\"\n",
    "for index, row in df.iterrows():\n",
    "    print(index)\n",
    "\n",
    "    # sql_str = f'''insert into thepubpicker.pub_record ({s2}) values (\"{row['address']}\",\"{row['beer']}\",\"{row['brunch']}\",\"{row['category']}\",\\\n",
    "    # \"{row['cocktail']}\",\"{row['color']}\",\"{row['comedy']}\",\"{row['dart']}\",{row['detail_latitude']},{row['detail_longitude']},\"{row['detail_name']}\",\\\n",
    "    # \"{row['direction_identity']}\",\"{row['direction_name']}\",\"{row['dj']}\",\"{row['entertain']}\",\"{row['extra']}\",\"{row['favourite']}\",\"{row['friday']}\",\\\n",
    "    # \"{row['garden']}\",\"{row['history']}\",\"{row['hours']}\",\"{row['karaoke']}\",\"{row['late']}\",\"{row['monday']}\",\"{row['music']}\",\"{row['nofeature']}\",\\\n",
    "    # \"{row['outdoor']}\",\"{row['place']}\",\"{row['pool']}\",\"{row['private']}\",\"{row['pub_identity']}\",\"{row['quiz']}\",{row['ranking']},\"{row['restaurant']}\",\\\n",
    "    # \"{row['roast']}\",\"{row['saturday']}\",\"{row['scenic']}\",\"{row['sport']}\",\"{row['station_identity']}\",\"{row['station_name']}\",\"{row['sunday']}\",\\\n",
    "    # \"{row['thursday']}\",\"{row['timeout']}\",\"{row['tuesday']}\",\"{row['url']}\",\"{row['website']}\",\"{row['wednesday']}\",\"{row['wine']}\")'''\n",
    "    pub_tuple = (row['address'],row['beer'],row['brunch'],row['category'],row['cocktail'],row['color'],row['comedy'],\n",
    "                 row['dart'],row['detail_latitude'],row['detail_longitude'],row['detail_name'],row['direction_identity'],row['direction_name'],row['dj'],\n",
    "                 row['entertain'],row['extra'],row['favourite'],row['friday'],row['garden'],row['history'],row['hours'],\n",
    "                 row['karaoke'],row['late'],row['monday'],row['music'],row['nofeature'],row['outdoor'],row['place'],\n",
    "                 row['pool'],row['private'],row['pub_identity'],row['quiz'],row['ranking'],row['restaurant'],row['roast'],\n",
    "                 row['saturday'],row['scenic'],row['sport'],row['station_identity'],row['station_name'],row['sunday'],row['thursday'],\n",
    "                 row['timeout'],row['tuesday'],row['url'],row['website'],row['wednesday'],row['wine'])\n",
    "    # sql_str = 'insert into thepubpicker.pub_record(address) values (297 Hoxton St, N1 5JX)'\n",
    "    # curs_obj.executemany(sql, pub_list)\n",
    "    print(sql)\n",
    "    curs_obj.execute(sql, pub_tuple)    \n",
    "    con.commit()\n"
   ]
  },
  {
   "cell_type": "code",
   "execution_count": 177,
   "id": "1747f5a7-3961-471c-bf6b-a121a95394f9",
   "metadata": {},
   "outputs": [],
   "source": [
    " con.close()"
   ]
  },
  {
   "cell_type": "code",
   "execution_count": null,
   "id": "b21ff5fc-a24e-4d13-ab58-38800f841dd7",
   "metadata": {},
   "outputs": [],
   "source": [
    "      # df = pd.read_csv(directory_path + '/detail.csv')\n",
    "# df = pd.read_csv(directory_path + '/review.csv')\n",
    "# df = pd.read_csv(directory_path + '/event.csv')\n",
    "# df = pd.read_csv(directory_path + '/direction.csv')\n",
    "# df = pd.read_csv(directory_path + '/station.csv')\n",
    "# df = pd.read_csv(directory_path + '/diary.csv')\n",
    "\n",
    "        # # # # # # # # # # # # # # #\n",
    "        # # # POPULATE DIARY # # #\n",
    "        # # # # # # # # # # # # \n",
    "\n",
    "        # sql_str = f\"\"\"\n",
    "        #     insert into thepubpicker.diary (\n",
    "        #         diary_identity,\n",
    "        #         pub_identity,\n",
    "        #         monday,\n",
    "        #         tuesday,\n",
    "        #         wednesday,\n",
    "        #         thursday,\n",
    "        #         friday,\n",
    "        #         saturday,\n",
    "        #         sunday\n",
    "        #     ) \n",
    "        #     values (\n",
    "        #         '{row['diary_identity']}', \n",
    "        #         '{row['pub_identity']}',\n",
    "        #         '{row['monday']}',\n",
    "        #         '{row['tuesday']}',\n",
    "        #         '{row['wednesday']}',\n",
    "        #         '{row['thursday']}',\n",
    "        #         '{row['friday']}',\n",
    "        #         '{row['saturday']}',\n",
    "        #         '{row['sunday']}'\n",
    "        #     )\n",
    "        # \"\"\"\n",
    "\n",
    "        # # # # # # # # # # # # # # # \n",
    "        # # # POPULATE STATION # # #\n",
    "        # # # # # # # # # # # # # # \n",
    "\n",
    "        # sql_str = f\"\"\"\n",
    "        #     insert into thepubpicker.station (\n",
    "        #         station_identity,\n",
    "        #         direction_identity,\n",
    "        #         station_deletion,\n",
    "        #         station_name,\n",
    "        #         station_latitude,\n",
    "        #         station_longitude,\n",
    "        #         postcode \n",
    "        #     ) \n",
    "        #     values (\n",
    "        #         '{row['station_identity']}', \n",
    "        #         '{row['direction_identity']}',\n",
    "        #         '{row['station_deletion']}',\n",
    "        #         '{row['station_name']}',\n",
    "        #         {row['station_latitude']},\n",
    "        #         {row['station_longitude']},\n",
    "        #         '{row['postcode']}'\n",
    "        #     )\n",
    "        # \"\"\"\n",
    "\n",
    "        # # # # # # # # # # # # # # # # \n",
    "        # # # POPULATE DIRECTION # # #\n",
    "        # # # # # # # # # # # # # # # \n",
    "\n",
    "        # sql_str = f\"\"\"\n",
    "        #     insert into thepubpicker.direction (\n",
    "        #         direction_identity,\n",
    "        #         direction_name,\n",
    "        #         direction_deletion\n",
    "        #     ) \n",
    "        #     values (\n",
    "        #         '{row['direction_identity']}', \n",
    "        #         '{row['direction_name']}',\n",
    "        #         '{row['direction_deletion']}'\n",
    "        #     )\n",
    "        # \"\"\"\n",
    "\n",
    "        # # # # # # # # # # # # # # # # # \n",
    "        # # # POPULATE DAILY EVENT # # #\n",
    "        # # # # # # # # # # # # # # # # \n",
    "\n",
    "        # sql_str = f\"\"\"\n",
    "        #     insert into thepubpicker.daily_event (\n",
    "        #         event_identity,\n",
    "        #         pub_identity,\n",
    "        #         event_day,\n",
    "        #         event_detail,\n",
    "        #         event_type\n",
    "        #     ) \n",
    "        #     values (\n",
    "        #         '{row['event_identity']}', \n",
    "        #         '{row['pub_identity']}',\n",
    "        #         '{row['event_day']}',\n",
    "        #         '{row['event_detail']}',\n",
    "        #         '{row['event_type']}'\n",
    "        #     )\n",
    "        # \"\"\"\n",
    "\n",
    "        # # # # # # # # # # # # # # #\n",
    "        # # # POPULATE REVIEW # # #\n",
    "        # # # # # # # # # # # # # \n",
    "\n",
    "        # sql_str = f\"\"\"\n",
    "        #     insert into thepubpicker.review (\n",
    "        #         review_identity, \n",
    "        #         pub_identity,\n",
    "        #         review_deletion,\n",
    "        #         scenic,\n",
    "        #         sport,\n",
    "        #         garden,\n",
    "        #         music,\n",
    "        #         roast,\n",
    "        #         brunch,\n",
    "        #         late,\n",
    "        #         quiz,\n",
    "        #         pool,\n",
    "        #         dart,\n",
    "        #         entertain,\n",
    "        #         history,\n",
    "        #         favourite, \n",
    "        #         cocktail,\n",
    "        #         beer,\n",
    "        #         wine,\n",
    "        #         outdoor,\n",
    "        #         restaurant,\n",
    "        #         nofeature,\n",
    "        #         private,\n",
    "        #         dj,\n",
    "        #         comedy,\n",
    "        #         karaoke,\n",
    "        #         timeout,\n",
    "        #         hours\n",
    "        #     ) \n",
    "        #     values (\n",
    "        #         '{row['review_identity']}', \n",
    "        #         '{row['pub_identity']}',\n",
    "        #         '{row['review_deletion']}',\n",
    "        #         '{row['scenic']}',\n",
    "        #         '{row['sport']}',\n",
    "        #         '{row['garden']}',\n",
    "        #         '{row['music']}',\n",
    "        #         '{row['roast']}',\n",
    "        #         '{row['brunch']}',\n",
    "        #         '{row['late']}',\n",
    "        #         '{row['quiz']}',\n",
    "        #         '{row['pool']}',\n",
    "        #         '{row['dart']}',\n",
    "        #         '{row['entertain']}',\n",
    "        #         '{row['history']}',\n",
    "        #         '{row['favourite']}', \n",
    "        #         '{row['cocktail']}',\n",
    "        #         '{row['beer']}',\n",
    "        #         '{row['wine']}',\n",
    "        #         '{row['outdoor']}',\n",
    "        #         '{row['restaurant']}',\n",
    "        #         '{row['nofeature']}',\n",
    "        #         '{row['private']}',\n",
    "        #         '{row['dj']}',\n",
    "        #         '{row['comedy']}',\n",
    "        #         '{row['karaoke']}',\n",
    "        #         '{row['timeout']}',\n",
    "        #         '{row['hours']}'\n",
    "        #     )\n",
    "        # \"\"\"\n",
    "\n",
    "        # # # # # # # # # # # # # # #\n",
    "        # # # POPULATE DETAIL # # #\n",
    "        # # # # # # # # # # # # # \n",
    "\n",
    "        # sql_str = f\"\"\"\n",
    "        # insert into thepubpicker.detail (\n",
    "        #     pub_identity,\n",
    "        #     station_identity,\n",
    "        #     detail_name,\n",
    "        #     address,\n",
    "        #     category,\n",
    "        #     detail_deletion,\n",
    "        #     detail_latitude,\n",
    "        #     detail_longitude,\n",
    "        #     extra,\n",
    "        #     place,\n",
    "        #     ranking,\n",
    "        #     website,\n",
    "        #     url) \n",
    "        # values (\n",
    "        # '{row['pub_identity']}',\n",
    "        # '{row['station_identity']}',\n",
    "        # '{row['detail_name'].replace(\"'\", '\"')}',\n",
    "        # '{row['address'].replace(\"'\", '\"')}',\n",
    "        # '{row['category']}',\n",
    "        # '0',\n",
    "        # {row['detail_latitude']},\n",
    "        # {row['detail_longitude']},\n",
    "        # '{row['extra'].replace(\"'\", '\"') if len(row['extra'])>0 else '' }',\n",
    "        # '{row['place']}',\n",
    "        # {row['ranking']},\n",
    "        # '{row['website']}',\n",
    "        # '{row['url']}'\n",
    "        # )\n",
    "        # \"\"\"\n",
    "\n"
   ]
  },
  {
   "cell_type": "code",
   "execution_count": 146,
   "id": "016e39fc-5f20-4f33-9fdc-7eceb1052e14",
   "metadata": {},
   "outputs": [
    {
     "name": "stdout",
     "output_type": "stream",
     "text": [
      "['4ed8c10e-3667-487b-825a-c6e15de432ec']\n"
     ]
    }
   ],
   "source": [
    "df1 = pd.read_csv(directory_path + '/detail.csv')\n",
    "df1.shape[0]\n",
    "df2 = pd.read_csv(directory_path + '/review.csv')\n",
    "df_all = df1.merge(df2, on=['pub_identity'], how='right', indicator=True)\n",
    "rslt_df = df_all[df_all['_merge'] == 'right_only'] \n",
    "new_df = rslt_df[['pub_identity']]\n",
    "\n",
    "# df_same = df1.merge(df2, on=['pub_identity'], how='inner', indicator=True)\n",
    "# df2.shape[0]\n",
    "error_list = new_df['pub_identity'].tolist()\n",
    "print(error_list)\n",
    "\n",
    "# for del_item in error_list:\n",
    "#     df = df.drop(df[df['city'] == 'Chicago'].index)\n"
   ]
  },
  {
   "cell_type": "code",
   "execution_count": 13,
   "id": "c16d140e-5e8c-4daf-ae89-1f9efe4e8968",
   "metadata": {},
   "outputs": [
    {
     "name": "stdout",
     "output_type": "stream",
     "text": [
      "2273\n",
      "0.07812399999999897\n"
     ]
    }
   ],
   "source": [
    "import pandas as pd\n",
    "from sqlalchemy import create_engine\n",
    "from sqlalchemy.engine import URL\n",
    "import time\n",
    "start = time.process_time()\n",
    "\n",
    "url = URL.create(\n",
    "        drivername='postgresql',\n",
    "        database=\"deb2u2ehdm8ih3\",\n",
    "        username=\"bjoonismanuyqb\",\n",
    "        password=\"42c662ab36a741716575f3e0101741349280622fff71ce246b15410de5c460d6\",\n",
    "        host=\"ec2-54-76-132-202.eu-west-1.compute.amazonaws.com\",\n",
    "        port= '5432'\n",
    "        )\n",
    "engine = create_engine(url)\n",
    "query = \"\"\"select * from thepubpicker.detail d\n",
    "                    left join thepubpicker.review r on r.pub_identity = d.pub_identity \n",
    "                    left join thepubpicker.diary dy on dy.pub_identity = d.pub_identity \n",
    "                    left join thepubpicker.station s on s.station_identity = d.station_identity \n",
    "                    left join thepubpicker.direction dir on dir.direction_identity = s.direction_identity\n",
    "                    left join thepubpicker.daily_event evnt on evnt.pub_identity = d.pub_identity\n",
    "                    \"\"\"\n",
    "df = pd.read_sql_query(query,con=engine)\n",
    "print(df.shape[0])\n",
    "print(time.process_time() - start)"
   ]
  },
  {
   "cell_type": "code",
   "execution_count": 12,
   "id": "c4fed5b2-35f4-4bf2-bc87-4c72d7510a3b",
   "metadata": {},
   "outputs": [
    {
     "name": "stdout",
     "output_type": "stream",
     "text": [
      "0.056052999999998576\n"
     ]
    }
   ],
   "source": [
    "import psycopg2\n",
    "start = time.process_time()\n",
    "con = psycopg2.connect(\n",
    "   database=\"deb2u2ehdm8ih3\",\n",
    "   user=\"bjoonismanuyqb\",\n",
    "   password=\"42c662ab36a741716575f3e0101741349280622fff71ce246b15410de5c460d6\",\n",
    "   host=\"ec2-54-76-132-202.eu-west-1.compute.amazonaws.com\",\n",
    "   port= '5432'\n",
    "   )\n",
    "curs_obj = con.cursor()\n",
    "curs_obj.execute(\"\"\"select * from thepubpicker.detail d \n",
    "                    left join thepubpicker.review r on r.pub_identity = d.pub_identity \n",
    "                    left join thepubpicker.diary dy on dy.pub_identity = d.pub_identity \n",
    "                    left join thepubpicker.station s on s.station_identity = d.station_identity \n",
    "                    left join thepubpicker.direction dir on dir.direction_identity = s.direction_identity\n",
    "                    left join thepubpicker.daily_event evnt on evnt.pub_identity = d.pub_identity\n",
    "                    \"\"\")\n",
    "result = curs_obj.fetchall()\n",
    "\n",
    "print(time.process_time() - start)"
   ]
  },
  {
   "cell_type": "code",
   "execution_count": 8,
   "id": "b9a3cbc4-5478-41fc-9563-c365404abcf5",
   "metadata": {},
   "outputs": [
    {
     "name": "stdout",
     "output_type": "stream",
     "text": [
      "2024-03-01 23:10:15.271910\n"
     ]
    }
   ],
   "source": [
    "import datetime\n",
    "now = datetime.datetime.now()\n",
    "print(now)"
   ]
  },
  {
   "cell_type": "code",
   "execution_count": 14,
   "id": "db155a20-9d30-4157-b403-ec4814733018",
   "metadata": {},
   "outputs": [
    {
     "name": "stdout",
     "output_type": "stream",
     "text": [
      "Collecting psycopg2-binary\n",
      "  Downloading psycopg2_binary-2.9.9-cp39-cp39-macosx_10_9_x86_64.whl (2.8 MB)\n",
      "\u001b[K     |████████████████████████████████| 2.8 MB 4.8 MB/s eta 0:00:01\n",
      "\u001b[?25hInstalling collected packages: psycopg2-binary\n",
      "Successfully installed psycopg2-binary-2.9.9\n",
      "\u001b[33mWARNING: You are using pip version 20.3.3; however, version 24.0 is available.\n",
      "You should consider upgrading via the '/Library/Frameworks/Python.framework/Versions/3.9/bin/python3 -m pip install --upgrade pip' command.\u001b[0m\n",
      "Note: you may need to restart the kernel to use updated packages.\n"
     ]
    }
   ],
   "source": [
    "pip install psycopg2-binary"
   ]
  },
  {
   "cell_type": "code",
   "execution_count": 22,
   "id": "3613fcd4-fe18-464b-b5c7-5a726abbb1fc",
   "metadata": {},
   "outputs": [
    {
     "ename": "SyntaxError",
     "evalue": "invalid syntax (301940979.py, line 4)",
     "output_type": "error",
     "traceback": [
      "\u001b[0;36m  Cell \u001b[0;32mIn[22], line 4\u001b[0;36m\u001b[0m\n\u001b[0;31m    jupyter notebook --NotebookApp.iopub_data_rate_limit=1.0e10\u001b[0m\n\u001b[0m            ^\u001b[0m\n\u001b[0;31mSyntaxError\u001b[0m\u001b[0;31m:\u001b[0m invalid syntax\n"
     ]
    }
   ],
   "source": [
    "import requests \n",
    "from urllib.request import urlopen\n",
    "from bs4 import BeautifulSoup \n",
    "jupyter notebook --NotebookApp.iopub_data_rate_limit=1.0e10\n",
    "quote_page = \"https://www.ucl.ac.uk/~ccaajpa/pubs-listed.html\" \n",
    "# html = urlopen(quote_page).read()\n",
    "response = requests.get(quote_page)\n",
    "html_page = response.text\n",
    "soup = BeautifulSoup(html_page, 'html.parser')\n",
    "# print(soup) \n",
    "\n",
    " \n",
    "# soup = BeautifulSoup(r.content, 'html5lib') # If this line causes an error, run 'pip install html5lib' or install html5lib \n",
    "\n",
    "print(soup.prettify()) "
   ]
  },
  {
   "cell_type": "code",
   "execution_count": 21,
   "id": "4b0080f3-6ae7-4303-82e2-68335286b2b7",
   "metadata": {},
   "outputs": [
    {
     "ename": "NameError",
     "evalue": "name 'NotebookApp' is not defined",
     "output_type": "error",
     "traceback": [
      "\u001b[0;31m---------------------------------------------------------------------------\u001b[0m",
      "\u001b[0;31mNameError\u001b[0m                                 Traceback (most recent call last)",
      "Cell \u001b[0;32mIn[21], line 1\u001b[0m\n\u001b[0;32m----> 1\u001b[0m \u001b[43mNotebookApp\u001b[49m\u001b[38;5;241m.\u001b[39miopub_data_rate_limit\u001b[38;5;241m=\u001b[39m\u001b[38;5;241m1.0e10\u001b[39m\n",
      "\u001b[0;31mNameError\u001b[0m: name 'NotebookApp' is not defined"
     ]
    }
   ],
   "source": [
    "NotebookApp.iopub_data_rate_limit=1.0e10"
   ]
  }
 ],
 "metadata": {
  "kernelspec": {
   "display_name": "Python 3 (ipykernel)",
   "language": "python",
   "name": "python3"
  },
  "language_info": {
   "codemirror_mode": {
    "name": "ipython",
    "version": 3
   },
   "file_extension": ".py",
   "mimetype": "text/x-python",
   "name": "python",
   "nbconvert_exporter": "python",
   "pygments_lexer": "ipython3",
   "version": "3.9.1"
  }
 },
 "nbformat": 4,
 "nbformat_minor": 5
}
