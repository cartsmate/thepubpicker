{
 "cells": [
  {
   "cell_type": "code",
   "execution_count": 18,
   "id": "1e4c7c41-5ebe-48e9-afa7-5be6b0d16363",
   "metadata": {},
   "outputs": [],
   "source": [
    "import os\n",
    "import pandas as pd\n",
    "import numpy as np\n",
    "directory_path = os.getcwd()\n",
    "df_det = pd.read_csv(directory_path + '/review.csv')\n",
    "df_det.head(5)\n",
    "df_det['hours']= '0'"
   ]
  },
  {
   "cell_type": "code",
   "execution_count": 19,
   "id": "27a66137-53f1-495c-b9c6-23bb055ba086",
   "metadata": {},
   "outputs": [],
   "source": [
    "df_det.to_csv(directory_path + '/review.csv', index=False, sep=',', encoding='utf-8')"
   ]
  }
 ],
 "metadata": {
  "kernelspec": {
   "display_name": "Python 3 (ipykernel)",
   "language": "python",
   "name": "python3"
  },
  "language_info": {
   "codemirror_mode": {
    "name": "ipython",
    "version": 3
   },
   "file_extension": ".py",
   "mimetype": "text/x-python",
   "name": "python",
   "nbconvert_exporter": "python",
   "pygments_lexer": "ipython3",
   "version": "3.9.1"
  }
 },
 "nbformat": 4,
 "nbformat_minor": 5
}
